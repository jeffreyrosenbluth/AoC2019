{
 "cells": [
  {
   "cell_type": "code",
   "execution_count": 209,
   "metadata": {},
   "outputs": [],
   "source": [
    "using DelimitedFiles, Printf"
   ]
  },
  {
   "cell_type": "markdown",
   "metadata": {},
   "source": [
    "## Day 1: The Tyranny of the Recket Equation"
   ]
  },
  {
   "cell_type": "code",
   "execution_count": 210,
   "metadata": {},
   "outputs": [
    {
     "data": {
      "text/plain": [
       "3406342"
      ]
     },
     "execution_count": 210,
     "metadata": {},
     "output_type": "execute_result"
    }
   ],
   "source": [
    "data1 = readdlm(\"day1.txt\")\n",
    "\n",
    "fuelrequired(mass) = floor(Int, mass / 3) - 2\n",
    "sum(fuelrequired.(data1))"
   ]
  },
  {
   "cell_type": "markdown",
   "metadata": {},
   "source": [
    "### Part Two"
   ]
  },
  {
   "cell_type": "code",
   "execution_count": 211,
   "metadata": {},
   "outputs": [
    {
     "data": {
      "text/plain": [
       "5106629"
      ]
     },
     "execution_count": 211,
     "metadata": {},
     "output_type": "execute_result"
    }
   ],
   "source": [
    "function fueloffuel(fuel)\n",
    "    ff = fuelrequired(fuel)\n",
    "    if ff <= 0\n",
    "        return fuel\n",
    "    end\n",
    "    fuel + fueloffuel(ff)\n",
    "end\n",
    "\n",
    "fuels = fuelrequired.(data1)\n",
    "sum(fueloffuel.(fuels))"
   ]
  },
  {
   "cell_type": "markdown",
   "metadata": {},
   "source": [
    "## Day 2: 1202 Program Alarm"
   ]
  },
  {
   "cell_type": "code",
   "execution_count": 212,
   "metadata": {},
   "outputs": [],
   "source": [
    "data2 = readdlm(\"day2.txt\", ',', Int) |> vec\n",
    "data2[2] = 12\n",
    "data2[3] = 2;"
   ]
  },
  {
   "cell_type": "code",
   "execution_count": 267,
   "metadata": {},
   "outputs": [
    {
     "data": {
      "text/plain": [
       "5305097"
      ]
     },
     "execution_count": 267,
     "metadata": {},
     "output_type": "execute_result"
    }
   ],
   "source": [
    "function compute(prog, inputs=[], debug=false)\n",
    "    idx(m) = prog[m] + 1\n",
    "    \n",
    "    function get(p, mode, x)\n",
    "        if mode == 0\n",
    "            return p[idx(x)]\n",
    "        elseif mode == 1\n",
    "            return p[x]\n",
    "        end\n",
    "    end\n",
    "    \n",
    "    function parseopcode(code)\n",
    "        codes = digits(code) |> reverse\n",
    "        for i in length(codes)+1:5\n",
    "            pushfirst!(codes, 0)\n",
    "        end\n",
    "        op = 10 * codes[end-1] + codes[end]\n",
    "        m3, m2, m1 = codes[1], codes[2], codes[3]\n",
    "        (op, m1, m2, m3)\n",
    "    end\n",
    "        \n",
    "    prog = copy(prog)\n",
    "    pc = 1\n",
    "    opcode, m1, m2, m3 = parseopcode(prog[pc])\n",
    "    while opcode != 99\n",
    "        if opcode == 1\n",
    "            prog[idx(pc + 3)] = get(prog, m1, pc + 1) + get(prog, m2, pc + 2)\n",
    "            if debug\n",
    "                @printf(\"opcode 1: , %0.0f = %0.0f\\n\", idx(pc + 3), prog[idx(pc + 3)])\n",
    "            end\n",
    "            pc += 4\n",
    "        elseif opcode == 2\n",
    "            prog[idx(pc + 3)] = get(prog, m1, pc + 1) * get(prog, m2, pc + 2)\n",
    "            if debug\n",
    "                @printf(\"opcode 2: , %0.0f = %0.0f\\n\", pc + 3, prog[idx(pc + 3)])\n",
    "            end\n",
    "            pc += 4\n",
    "        elseif opcode == 3\n",
    "            prog[idx(pc + 1)] = popfirst!(inputs)\n",
    "            if debug\n",
    "                @printf(\"opcode 3: , store %0.0f in %0.0f\\n\", prog[idx(pc + 1)], idx(pc + 1))\n",
    "            end\n",
    "            pc += 2\n",
    "        elseif opcode == 4\n",
    "            println(get(prog, m1, pc + 1))\n",
    "            if debug\n",
    "                @printf(\"opcode 4: , print %0.0f\\n\", get(prog, m1, pc + 1))\n",
    "            end\n",
    "            pc += 2\n",
    "        elseif opcode == 5\n",
    "            if get(prog, m1, pc + 1) != 0\n",
    "                pc = get(prog, m2, pc + 2)\n",
    "            else\n",
    "                pc += 3\n",
    "            end\n",
    "        elseif opcode == 6\n",
    "            if get(prog, m1, pc + 1) == 0\n",
    "                pc = get(prog, m2, pc + 2)\n",
    "            else\n",
    "                pc += 3\n",
    "            end\n",
    "        elseif opcode == 7\n",
    "            prog[idx(pc + 3)] = 0\n",
    "            if get(prog, m1, pc + 1) < get(prog, m2, pc + 2)\n",
    "                prog[idx(pc + 3)] = 1\n",
    "            end\n",
    "            pc += 4\n",
    "        elseif opcode == 8\n",
    "            prog[idx(pc + 3)] = 0\n",
    "            if get(prog, m1, pc + 1) == get(prog, m2, pc + 2)\n",
    "                prog[idx(pc + 3)] = 1\n",
    "            end\n",
    "            if debug\n",
    "                @printf(\"opcode 8: ,%0.0f == %0.0f, store %0.0f in %0.0f\\n\", \n",
    "                        get(prog, m1, pc + 1), \n",
    "                        get(prog, m2, pc + 2),\n",
    "                        prog[idx(pc + 3)], \n",
    "                        idx(pc + 3)\n",
    "                       )\n",
    "            end\n",
    "            pc += 4\n",
    "        end\n",
    "        opcode, m1, m2, m3 = parseopcode(prog[pc])\n",
    "    end\n",
    "    prog\n",
    "end\n",
    "            \n",
    "compute(data2)[1]"
   ]
  },
  {
   "cell_type": "markdown",
   "metadata": {},
   "source": [
    "### Part Two"
   ]
  },
  {
   "cell_type": "code",
   "execution_count": 237,
   "metadata": {},
   "outputs": [
    {
     "data": {
      "text/plain": [
       "4925"
      ]
     },
     "execution_count": 237,
     "metadata": {},
     "output_type": "execute_result"
    }
   ],
   "source": [
    "function nounverb(prog)\n",
    "    for noun in 0:99\n",
    "        for verb in 0:99\n",
    "            prog2 = copy(prog)\n",
    "            prog2[2] = noun\n",
    "            prog2[3] = verb\n",
    "            if compute(prog2)[1] == 19690720\n",
    "                return 100 * noun + verb\n",
    "            end\n",
    "        end\n",
    "    end\n",
    "end\n",
    "\n",
    "nounverb(data2)"
   ]
  },
  {
   "cell_type": "markdown",
   "metadata": {},
   "source": [
    "## Day 3: Crossed Wires"
   ]
  },
  {
   "cell_type": "code",
   "execution_count": 238,
   "metadata": {},
   "outputs": [],
   "source": [
    "data3 = readdlm(\"day3.txt\", ',');"
   ]
  },
  {
   "cell_type": "code",
   "execution_count": 239,
   "metadata": {},
   "outputs": [
    {
     "data": {
      "text/plain": [
       "386"
      ]
     },
     "execution_count": 239,
     "metadata": {},
     "output_type": "execute_result"
    }
   ],
   "source": [
    "function pathpts(path)\n",
    "    pts = []\n",
    "    loc = (0, 0)\n",
    "    for d in path\n",
    "        dir = d[1]\n",
    "        totaldist = parse(Int, d[2:end])\n",
    "        for _ in 1:totaldist\n",
    "            if dir == 'U'\n",
    "                loc = (loc[1], loc[2] + 1)\n",
    "            elseif dir == 'D'\n",
    "                loc = (loc[1], loc[2] - 1)\n",
    "            elseif dir == 'R'\n",
    "                loc = (loc[1] + 1, loc[2])\n",
    "            else \n",
    "                loc = (loc[1] - 1, loc[2])\n",
    "            end\n",
    "            push!(pts, loc)\n",
    "        end\n",
    "    end\n",
    "    pts\n",
    "end\n",
    "\n",
    "Base.abs(t::Tuple{Int64,Int64}) = (abs(t[1]), abs(t[2]))\n",
    "\n",
    "function wirecross(data)\n",
    "    wire1 = pathpts(data3[1,:])\n",
    "    wire2 = pathpts(data3[2,:])\n",
    "    crosses = intersect(wire1, wire2)\n",
    "    minimum((sum ∘ abs).(crosses))\n",
    "end\n",
    "\n",
    "wirecross(data3)"
   ]
  },
  {
   "cell_type": "markdown",
   "metadata": {},
   "source": [
    "### Part Two"
   ]
  },
  {
   "cell_type": "code",
   "execution_count": 146,
   "metadata": {},
   "outputs": [
    {
     "data": {
      "text/plain": [
       "6484"
      ]
     },
     "execution_count": 146,
     "metadata": {},
     "output_type": "execute_result"
    }
   ],
   "source": [
    "function numsteps(wire, pt)\n",
    "    d = 1\n",
    "    for p in wire\n",
    "        if p == pt\n",
    "            return d\n",
    "        end\n",
    "        d += 1\n",
    "    end\n",
    "end\n",
    "\n",
    "function signaldelay(data)\n",
    "    wire1 = pathpts(data3[1,:])\n",
    "    wire2 = pathpts(data3[2,:])\n",
    "    crosses = intersect(wire1, wire2)\n",
    "    d1s = map(x -> numsteps(wire1, x), crosses)\n",
    "    d2s = map(x -> numsteps(wire2, x), crosses)\n",
    "    minimum(d1s + d2s)\n",
    "end\n",
    "    \n",
    "signaldelay(data3)"
   ]
  },
  {
   "cell_type": "markdown",
   "metadata": {},
   "source": [
    "## Day 4: Secure Container"
   ]
  },
  {
   "cell_type": "code",
   "execution_count": 155,
   "metadata": {},
   "outputs": [
    {
     "data": {
      "text/plain": [
       "1675"
      ]
     },
     "execution_count": 155,
     "metadata": {},
     "output_type": "execute_result"
    }
   ],
   "source": [
    "function valid(pwd)\n",
    "    ds = digits(pwd) |> reverse\n",
    "    fact1 = length(Set(ds)) != length(ds)\n",
    "    fact2 = sort(ds) == ds\n",
    "    fact1 && fact2\n",
    "end\n",
    "\n",
    "function vcount(pwd1, pwd2)\n",
    "    pwds = collect(pwd1:pwd2)\n",
    "    sum(valid.(pwds))\n",
    "end\n",
    "        \n",
    "vcount(172930, 683082)"
   ]
  },
  {
   "cell_type": "code",
   "execution_count": 169,
   "metadata": {},
   "outputs": [
    {
     "data": {
      "text/plain": [
       "1142"
      ]
     },
     "execution_count": 169,
     "metadata": {},
     "output_type": "execute_result"
    }
   ],
   "source": [
    "function valid2(pwd)\n",
    "    ds = digits(pwd) |> reverse\n",
    "    fact2 = sort(ds) == ds\n",
    "    push!(ds, -1)\n",
    "    pushfirst!(ds, -1)\n",
    "    fact1 = false\n",
    "    for i = 2:length(ds)-2\n",
    "        v = @view ds[i-1:i+2]\n",
    "        if v[1] != v[2] && v[2] == v[3] && v[3] != v[4]\n",
    "            fact1 = true\n",
    "            break;\n",
    "        end\n",
    "    end\n",
    "    fact1 && fact2\n",
    "end\n",
    "\n",
    "function vcount2(pwd1, pwd2)\n",
    "    pwds = collect(pwd1:pwd2)\n",
    "    sum(valid2.(pwds))\n",
    "end\n",
    "\n",
    "vcount2(172930, 683082)"
   ]
  },
  {
   "cell_type": "markdown",
   "metadata": {},
   "source": [
    "## Day 5: Sunny with a Chance of Asteroids"
   ]
  },
  {
   "cell_type": "code",
   "execution_count": 247,
   "metadata": {},
   "outputs": [
    {
     "name": "stdout",
     "output_type": "stream",
     "text": [
      "0\n",
      "0\n",
      "0\n",
      "0\n",
      "0\n",
      "0\n",
      "0\n",
      "0\n",
      "0\n",
      "12440243\n"
     ]
    }
   ],
   "source": [
    "data5 = readdlm(\"day5.txt\", ',', Int) |> vec;\n",
    "compute(data5, [1]);"
   ]
  },
  {
   "cell_type": "markdown",
   "metadata": {},
   "source": [
    "### Day Two"
   ]
  },
  {
   "cell_type": "code",
   "execution_count": 268,
   "metadata": {},
   "outputs": [
    {
     "name": "stdout",
     "output_type": "stream",
     "text": [
      "opcode 3: , store 8 in 10\n",
      "opcode 8: ,0 == 8, store 0 in 10\n",
      "0\n",
      "opcode 4: , print 0\n"
     ]
    }
   ],
   "source": [
    "p1 = [3,9,8,9,10,9,4,9,99,-1,8]\n",
    "c = compute(p1, [8], true);"
   ]
  },
  {
   "cell_type": "code",
   "execution_count": 264,
   "metadata": {},
   "outputs": [
    {
     "data": {
      "text/plain": [
       "11-element Array{Int64,1}:\n",
       "  3\n",
       "  9\n",
       "  8\n",
       "  9\n",
       " 10\n",
       "  9\n",
       "  4\n",
       "  9\n",
       " 99\n",
       "  0\n",
       "  8"
      ]
     },
     "execution_count": 264,
     "metadata": {},
     "output_type": "execute_result"
    }
   ],
   "source": [
    "c"
   ]
  },
  {
   "cell_type": "code",
   "execution_count": 291,
   "metadata": {},
   "outputs": [
    {
     "data": {
      "image/svg+xml": [
       "<?xml version=\"1.0\" encoding=\"utf-8\"?>\n",
       "<svg xmlns=\"http://www.w3.org/2000/svg\" xmlns:xlink=\"http://www.w3.org/1999/xlink\" width=\"600\" height=\"400\" viewBox=\"0 0 2400 1600\">\n",
       "<defs>\n",
       "  <clipPath id=\"clip5800\">\n",
       "    <rect x=\"0\" y=\"0\" width=\"2400\" height=\"1600\"/>\n",
       "  </clipPath>\n",
       "</defs>\n",
       "<path clip-path=\"url(#clip5800)\" d=\"\n",
       "M0 1600 L2400 1600 L2400 0 L0 0  Z\n",
       "  \" fill=\"#ffffff\" fill-rule=\"evenodd\" fill-opacity=\"1\"/>\n",
       "<defs>\n",
       "  <clipPath id=\"clip5801\">\n",
       "    <rect x=\"480\" y=\"0\" width=\"1681\" height=\"1600\"/>\n",
       "  </clipPath>\n",
       "</defs>\n",
       "<path clip-path=\"url(#clip5800)\" d=\"\n",
       "M248.914 1487.47 L2352.76 1487.47 L2352.76 47.2441 L248.914 47.2441  Z\n",
       "  \" fill=\"#ffffff\" fill-rule=\"evenodd\" fill-opacity=\"1\"/>\n",
       "<defs>\n",
       "  <clipPath id=\"clip5802\">\n",
       "    <rect x=\"248\" y=\"47\" width=\"2105\" height=\"1441\"/>\n",
       "  </clipPath>\n",
       "</defs>\n",
       "<polyline clip-path=\"url(#clip5802)\" style=\"stroke:#000000; stroke-width:2; stroke-opacity:0.1; fill:none\" points=\"\n",
       "  528.985,1487.47 528.985,47.2441 \n",
       "  \"/>\n",
       "<polyline clip-path=\"url(#clip5802)\" style=\"stroke:#000000; stroke-width:2; stroke-opacity:0.1; fill:none\" points=\"\n",
       "  970.042,1487.47 970.042,47.2441 \n",
       "  \"/>\n",
       "<polyline clip-path=\"url(#clip5802)\" style=\"stroke:#000000; stroke-width:2; stroke-opacity:0.1; fill:none\" points=\"\n",
       "  1411.1,1487.47 1411.1,47.2441 \n",
       "  \"/>\n",
       "<polyline clip-path=\"url(#clip5802)\" style=\"stroke:#000000; stroke-width:2; stroke-opacity:0.1; fill:none\" points=\"\n",
       "  1852.16,1487.47 1852.16,47.2441 \n",
       "  \"/>\n",
       "<polyline clip-path=\"url(#clip5802)\" style=\"stroke:#000000; stroke-width:2; stroke-opacity:0.1; fill:none\" points=\"\n",
       "  2293.21,1487.47 2293.21,47.2441 \n",
       "  \"/>\n",
       "<polyline clip-path=\"url(#clip5802)\" style=\"stroke:#000000; stroke-width:2; stroke-opacity:0.1; fill:none\" points=\"\n",
       "  248.914,1446.71 2352.76,1446.71 \n",
       "  \"/>\n",
       "<polyline clip-path=\"url(#clip5802)\" style=\"stroke:#000000; stroke-width:2; stroke-opacity:0.1; fill:none\" points=\"\n",
       "  248.914,1103.61 2352.76,1103.61 \n",
       "  \"/>\n",
       "<polyline clip-path=\"url(#clip5802)\" style=\"stroke:#000000; stroke-width:2; stroke-opacity:0.1; fill:none\" points=\"\n",
       "  248.914,760.497 2352.76,760.497 \n",
       "  \"/>\n",
       "<polyline clip-path=\"url(#clip5802)\" style=\"stroke:#000000; stroke-width:2; stroke-opacity:0.1; fill:none\" points=\"\n",
       "  248.914,417.389 2352.76,417.389 \n",
       "  \"/>\n",
       "<polyline clip-path=\"url(#clip5802)\" style=\"stroke:#000000; stroke-width:2; stroke-opacity:0.1; fill:none\" points=\"\n",
       "  248.914,74.281 2352.76,74.281 \n",
       "  \"/>\n",
       "<polyline clip-path=\"url(#clip5800)\" style=\"stroke:#000000; stroke-width:4; stroke-opacity:1; fill:none\" points=\"\n",
       "  248.914,1487.47 2352.76,1487.47 \n",
       "  \"/>\n",
       "<polyline clip-path=\"url(#clip5800)\" style=\"stroke:#000000; stroke-width:4; stroke-opacity:1; fill:none\" points=\"\n",
       "  248.914,1487.47 248.914,47.2441 \n",
       "  \"/>\n",
       "<polyline clip-path=\"url(#clip5800)\" style=\"stroke:#000000; stroke-width:4; stroke-opacity:1; fill:none\" points=\"\n",
       "  528.985,1487.47 528.985,1465.87 \n",
       "  \"/>\n",
       "<polyline clip-path=\"url(#clip5800)\" style=\"stroke:#000000; stroke-width:4; stroke-opacity:1; fill:none\" points=\"\n",
       "  970.042,1487.47 970.042,1465.87 \n",
       "  \"/>\n",
       "<polyline clip-path=\"url(#clip5800)\" style=\"stroke:#000000; stroke-width:4; stroke-opacity:1; fill:none\" points=\"\n",
       "  1411.1,1487.47 1411.1,1465.87 \n",
       "  \"/>\n",
       "<polyline clip-path=\"url(#clip5800)\" style=\"stroke:#000000; stroke-width:4; stroke-opacity:1; fill:none\" points=\"\n",
       "  1852.16,1487.47 1852.16,1465.87 \n",
       "  \"/>\n",
       "<polyline clip-path=\"url(#clip5800)\" style=\"stroke:#000000; stroke-width:4; stroke-opacity:1; fill:none\" points=\"\n",
       "  2293.21,1487.47 2293.21,1465.87 \n",
       "  \"/>\n",
       "<polyline clip-path=\"url(#clip5800)\" style=\"stroke:#000000; stroke-width:4; stroke-opacity:1; fill:none\" points=\"\n",
       "  248.914,1446.71 280.472,1446.71 \n",
       "  \"/>\n",
       "<polyline clip-path=\"url(#clip5800)\" style=\"stroke:#000000; stroke-width:4; stroke-opacity:1; fill:none\" points=\"\n",
       "  248.914,1103.61 280.472,1103.61 \n",
       "  \"/>\n",
       "<polyline clip-path=\"url(#clip5800)\" style=\"stroke:#000000; stroke-width:4; stroke-opacity:1; fill:none\" points=\"\n",
       "  248.914,760.497 280.472,760.497 \n",
       "  \"/>\n",
       "<polyline clip-path=\"url(#clip5800)\" style=\"stroke:#000000; stroke-width:4; stroke-opacity:1; fill:none\" points=\"\n",
       "  248.914,417.389 280.472,417.389 \n",
       "  \"/>\n",
       "<polyline clip-path=\"url(#clip5800)\" style=\"stroke:#000000; stroke-width:4; stroke-opacity:1; fill:none\" points=\"\n",
       "  248.914,74.281 280.472,74.281 \n",
       "  \"/>\n",
       "<g clip-path=\"url(#clip5800)\">\n",
       "<text style=\"fill:#000000; fill-opacity:1; font-family:Arial,Helvetica Neue,Helvetica,sans-serif; font-size:48px; text-anchor:middle;\" transform=\"rotate(0, 528.985, 1541.47)\" x=\"528.985\" y=\"1541.47\">0.02</text>\n",
       "</g>\n",
       "<g clip-path=\"url(#clip5800)\">\n",
       "<text style=\"fill:#000000; fill-opacity:1; font-family:Arial,Helvetica Neue,Helvetica,sans-serif; font-size:48px; text-anchor:middle;\" transform=\"rotate(0, 970.042, 1541.47)\" x=\"970.042\" y=\"1541.47\">0.04</text>\n",
       "</g>\n",
       "<g clip-path=\"url(#clip5800)\">\n",
       "<text style=\"fill:#000000; fill-opacity:1; font-family:Arial,Helvetica Neue,Helvetica,sans-serif; font-size:48px; text-anchor:middle;\" transform=\"rotate(0, 1411.1, 1541.47)\" x=\"1411.1\" y=\"1541.47\">0.06</text>\n",
       "</g>\n",
       "<g clip-path=\"url(#clip5800)\">\n",
       "<text style=\"fill:#000000; fill-opacity:1; font-family:Arial,Helvetica Neue,Helvetica,sans-serif; font-size:48px; text-anchor:middle;\" transform=\"rotate(0, 1852.16, 1541.47)\" x=\"1852.16\" y=\"1541.47\">0.08</text>\n",
       "</g>\n",
       "<g clip-path=\"url(#clip5800)\">\n",
       "<text style=\"fill:#000000; fill-opacity:1; font-family:Arial,Helvetica Neue,Helvetica,sans-serif; font-size:48px; text-anchor:middle;\" transform=\"rotate(0, 2293.21, 1541.47)\" x=\"2293.21\" y=\"1541.47\">0.10</text>\n",
       "</g>\n",
       "<g clip-path=\"url(#clip5800)\">\n",
       "<text style=\"fill:#000000; fill-opacity:1; font-family:Arial,Helvetica Neue,Helvetica,sans-serif; font-size:48px; text-anchor:end;\" transform=\"rotate(0, 224.914, 1464.21)\" x=\"224.914\" y=\"1464.21\">-10000</text>\n",
       "</g>\n",
       "<g clip-path=\"url(#clip5800)\">\n",
       "<text style=\"fill:#000000; fill-opacity:1; font-family:Arial,Helvetica Neue,Helvetica,sans-serif; font-size:48px; text-anchor:end;\" transform=\"rotate(0, 224.914, 1121.11)\" x=\"224.914\" y=\"1121.11\">-7500</text>\n",
       "</g>\n",
       "<g clip-path=\"url(#clip5800)\">\n",
       "<text style=\"fill:#000000; fill-opacity:1; font-family:Arial,Helvetica Neue,Helvetica,sans-serif; font-size:48px; text-anchor:end;\" transform=\"rotate(0, 224.914, 777.997)\" x=\"224.914\" y=\"777.997\">-5000</text>\n",
       "</g>\n",
       "<g clip-path=\"url(#clip5800)\">\n",
       "<text style=\"fill:#000000; fill-opacity:1; font-family:Arial,Helvetica Neue,Helvetica,sans-serif; font-size:48px; text-anchor:end;\" transform=\"rotate(0, 224.914, 434.889)\" x=\"224.914\" y=\"434.889\">-2500</text>\n",
       "</g>\n",
       "<g clip-path=\"url(#clip5800)\">\n",
       "<text style=\"fill:#000000; fill-opacity:1; font-family:Arial,Helvetica Neue,Helvetica,sans-serif; font-size:48px; text-anchor:end;\" transform=\"rotate(0, 224.914, 91.781)\" x=\"224.914\" y=\"91.781\">0</text>\n",
       "</g>\n",
       "<polyline clip-path=\"url(#clip5802)\" style=\"stroke:#009af9; stroke-width:4; stroke-opacity:1; fill:none\" points=\"\n",
       "  308.457,1446.71 310.879,1417.05 313.302,1388.33 315.725,1360.53 318.148,1333.6 320.571,1307.5 322.994,1282.21 325.417,1257.69 327.839,1233.91 339.041,1132.76 \n",
       "  350.242,1044.29 361.443,966.47 372.645,897.65 383.846,836.496 395.048,781.91 406.249,732.985 417.45,688.964 439.853,613.196 462.256,550.621 484.658,498.343 \n",
       "  507.061,454.223 533.987,409.737 560.914,372.63 587.84,341.357 614.766,314.754 660.297,278.017 705.829,249.098 804.749,204.178 895.944,176.511 993.716,155.633 \n",
       "  1106.99,138.552 1207.66,127.515 1295.94,120.019 1392.18,113.518 1489,108.283 1596.04,103.627 1697.89,100.032 1803.79,96.9512 1892.94,94.7672 2001.77,92.5035 \n",
       "  2104.08,90.701 2267.99,88.3248 2293.21,88.0053 \n",
       "  \"/>\n",
       "<path clip-path=\"url(#clip5800)\" d=\"\n",
       "M1989.93 251.724 L2280.76 251.724 L2280.76 130.764 L1989.93 130.764  Z\n",
       "  \" fill=\"#ffffff\" fill-rule=\"evenodd\" fill-opacity=\"1\"/>\n",
       "<polyline clip-path=\"url(#clip5800)\" style=\"stroke:#000000; stroke-width:4; stroke-opacity:1; fill:none\" points=\"\n",
       "  1989.93,251.724 2280.76,251.724 2280.76,130.764 1989.93,130.764 1989.93,251.724 \n",
       "  \"/>\n",
       "<polyline clip-path=\"url(#clip5800)\" style=\"stroke:#009af9; stroke-width:4; stroke-opacity:1; fill:none\" points=\"\n",
       "  2013.93,191.244 2157.93,191.244 \n",
       "  \"/>\n",
       "<g clip-path=\"url(#clip5800)\">\n",
       "<text style=\"fill:#000000; fill-opacity:1; font-family:Arial,Helvetica Neue,Helvetica,sans-serif; font-size:48px; text-anchor:start;\" transform=\"rotate(0, 2181.93, 208.744)\" x=\"2181.93\" y=\"208.744\">y1</text>\n",
       "</g>\n",
       "</svg>\n"
      ]
     },
     "execution_count": 291,
     "metadata": {},
     "output_type": "execute_result"
    }
   ],
   "source": [
    "using Plots\n",
    "\n",
    "plot((x ->  -1/x^2), 0.01, .1)"
   ]
  },
  {
   "cell_type": "code",
   "execution_count": null,
   "metadata": {},
   "outputs": [],
   "source": []
  }
 ],
 "metadata": {
  "kernelspec": {
   "display_name": "Julia 1.3.0",
   "language": "julia",
   "name": "julia-1.3"
  },
  "language_info": {
   "file_extension": ".jl",
   "mimetype": "application/julia",
   "name": "julia",
   "version": "1.3.0"
  }
 },
 "nbformat": 4,
 "nbformat_minor": 2
}
